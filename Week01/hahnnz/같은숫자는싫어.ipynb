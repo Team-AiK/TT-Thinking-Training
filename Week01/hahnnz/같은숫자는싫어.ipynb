{
 "cells": [
  {
   "cell_type": "markdown",
   "metadata": {},
   "source": [
    "# *Programmers* - 같은 숫자는 싫어 `Level 1`\n",
    "\n",
    "no_continuous함수는 스트링 s를 매개변수로 입력받습니다.\n",
    "\n",
    "s의 글자들의 순서를 유지하면서, 글자들 중 연속적으로 나타나는 아이템은 제거된 배열(파이썬은 list)을 리턴하도록 함수를 완성하세요.\n",
    "예를들어 다음과 같이 동작하면 됩니다.\n",
    "\n",
    "* s가 '133303'이라면 ['1', '3', '0', '3']를 리턴\n",
    "* s가 '47330'이라면 [4, 7, 3, 0]을 리턴"
   ]
  },
  {
   "cell_type": "code",
   "execution_count": 1,
   "metadata": {},
   "outputs": [
    {
     "name": "stdout",
     "output_type": "stream",
     "text": [
      "['1', '3', '0', '3']\n"
     ]
    }
   ],
   "source": [
    "def no_continuous(s):\n",
    "    NoCon=list()\n",
    "    for chr in s:\n",
    "        if len(NoCon)==0 : NoCon.append(chr)\n",
    "        elif NoCon[-1]!=chr : NoCon.append(chr)\n",
    "    return NoCon\n",
    "\n",
    "# 아래는 테스트로 출력해 보기 위한 코드입니다.\n",
    "print( no_continuous( \"133303\" ))"
   ]
  },
  {
   "cell_type": "code",
   "execution_count": null,
   "metadata": {},
   "outputs": [],
   "source": []
  }
 ],
 "metadata": {
  "kernelspec": {
   "display_name": "Python 3",
   "language": "python",
   "name": "python3"
  },
  "language_info": {
   "codemirror_mode": {
    "name": "ipython",
    "version": 3
   },
   "file_extension": ".py",
   "mimetype": "text/x-python",
   "name": "python",
   "nbconvert_exporter": "python",
   "pygments_lexer": "ipython3",
   "version": "3.5.2"
  }
 },
 "nbformat": 4,
 "nbformat_minor": 2
}
