{
 "cells": [
  {
   "cell_type": "markdown",
   "metadata": {},
   "source": [
    "# *Programmers* - 딕셔너리 정렬 `Level 1`\n",
    "\n",
    "딕셔너리는 들어있는 값에 순서가 없지만, 키를 기준으로 정렬하고 싶습니다. 그래서 키와 값을 튜플로 구성하고, 이를 순서대로 리스트에 넣으려고 합니다.\n",
    "예를들어 {김철수:78, 이하나:97, 정진원:88}이 있다면 각각의 키와 값을\n",
    "\n",
    "* (김철수, 78)\n",
    "* (이하나, 97)\n",
    "* (정진원, 88)\n",
    "\n",
    "\n",
    "과 같이 튜플로 분리하고 키를 기준으로 정렬해서 다음과 같은 리스트를 만들면 됩니다.\n",
    "[ (김철수, 78), (이하나, 97), (정진원, 88) ]\n",
    "\n",
    "다음 sort_dictionary 함수를 완성해 보세요."
   ]
  },
  {
   "cell_type": "code",
   "execution_count": 1,
   "metadata": {},
   "outputs": [
    {
     "name": "stdout",
     "output_type": "stream",
     "text": [
      "['김철수', '정진원', '이하나']\n"
     ]
    }
   ],
   "source": [
    "def sort_dictionary(dic):\n",
    "    return list(name for name in list(dic.keys()))\n",
    "\n",
    "# 아래는 테스트로 출력해 보기 위한 코드입니다.\n",
    "print( sort_dictionary( {\"김철수\":78, \"이하나\":97, \"정진원\":88} ))"
   ]
  },
  {
   "cell_type": "code",
   "execution_count": null,
   "metadata": {},
   "outputs": [],
   "source": []
  }
 ],
 "metadata": {
  "kernelspec": {
   "display_name": "Python 3",
   "language": "python",
   "name": "python3"
  },
  "language_info": {
   "codemirror_mode": {
    "name": "ipython",
    "version": 3
   },
   "file_extension": ".py",
   "mimetype": "text/x-python",
   "name": "python",
   "nbconvert_exporter": "python",
   "pygments_lexer": "ipython3",
   "version": "3.5.2"
  }
 },
 "nbformat": 4,
 "nbformat_minor": 2
}
