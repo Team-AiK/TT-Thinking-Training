{
 "cells": [
  {
   "cell_type": "markdown",
   "metadata": {},
   "source": [
    "# *Programmers* - 괄호 확인하기 `Level 2`\n",
    "\n",
    "is_pair함수는 문자열 s를 매개변수로 입력받습니다.\n",
    "s에 괄호가 알맞게 짝지어져 있으면 True를 아니면 False를 리턴하는 함수를 완성하세요.\n",
    "예를들어 s가 (hello)()면 True이고, )(이면 False입니다.\n",
    "s가 빈 문자열(\"\")인 경우는 없습니다."
   ]
  },
  {
   "cell_type": "code",
   "execution_count": 1,
   "metadata": {},
   "outputs": [
    {
     "name": "stdout",
     "output_type": "stream",
     "text": [
      "True\n",
      "False\n"
     ]
    }
   ],
   "source": [
    "def is_pair(s):\n",
    "    status = 0\n",
    "    opened = False\n",
    "    for br in s:\n",
    "        if br == \"(\": \n",
    "            status+=1\n",
    "            opened = True\n",
    "        elif br== \")\":\n",
    "            status-=1\n",
    "            opened = False\n",
    "    if status == 0 and not opened: return True\n",
    "    else : return False\n",
    "\n",
    "# 아래는 테스트로 출력해 보기 위한 코드입니다.\n",
    "print( is_pair(\"(hello)()\"))\n",
    "print( is_pair(\")(\"))"
   ]
  },
  {
   "cell_type": "code",
   "execution_count": null,
   "metadata": {},
   "outputs": [],
   "source": []
  }
 ],
 "metadata": {
  "kernelspec": {
   "display_name": "Python 3",
   "language": "python",
   "name": "python3"
  },
  "language_info": {
   "codemirror_mode": {
    "name": "ipython",
    "version": 3
   },
   "file_extension": ".py",
   "mimetype": "text/x-python",
   "name": "python",
   "nbconvert_exporter": "python",
   "pygments_lexer": "ipython3",
   "version": "3.5.2"
  }
 },
 "nbformat": 4,
 "nbformat_minor": 2
}
