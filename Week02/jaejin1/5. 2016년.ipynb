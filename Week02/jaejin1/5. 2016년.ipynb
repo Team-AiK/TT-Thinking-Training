{
 "cells": [
  {
   "cell_type": "code",
   "execution_count": 29,
   "metadata": {},
   "outputs": [
    {
     "data": {
      "text/plain": [
       "'FRI'"
      ]
     },
     "execution_count": 29,
     "metadata": {},
     "output_type": "execute_result"
    }
   ],
   "source": [
    "dict = {0:'FRI',1:'SAT', 2: 'SUN', 3: 'MON', 4:'TUE', 5:'WED' , 6: 'THU'}\n",
    "\n",
    "def getDayName(a,b):\n",
    "\n",
    "    day = -1\n",
    "    month = [31, 29, 31, 30, 31, 30, 31, 31, 30, 31, 30, 31]\n",
    "    \n",
    "    for i in range(1, a):\n",
    "        day += month[i-1]\n",
    "            \n",
    "    day += b\n",
    "    return dict[day % 7]\n",
    "    \n",
    "getDayName(1,1)"
   ]
  }
 ],
 "metadata": {
  "kernelspec": {
   "display_name": "Python 3",
   "language": "python",
   "name": "python3"
  },
  "language_info": {
   "codemirror_mode": {
    "name": "ipython",
    "version": 3
   },
   "file_extension": ".py",
   "mimetype": "text/x-python",
   "name": "python",
   "nbconvert_exporter": "python",
   "pygments_lexer": "ipython3",
   "version": "3.5.2"
  }
 },
 "nbformat": 4,
 "nbformat_minor": 2
}
