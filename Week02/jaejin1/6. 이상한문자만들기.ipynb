{
 "cells": [
  {
   "cell_type": "code",
   "execution_count": 35,
   "metadata": {},
   "outputs": [
    {
     "name": "stdout",
     "output_type": "stream",
     "text": [
      "IvWdMg\n",
      "QsIqU\n",
      "BuJtXc\n",
      "CvQyQ\n"
     ]
    },
    {
     "data": {
      "text/plain": [
       "'IvWdMg QsIqU BuJtXc CvQyQ'"
      ]
     },
     "execution_count": 35,
     "metadata": {},
     "output_type": "execute_result"
    }
   ],
   "source": [
    "def toWeirdCase(s):\n",
    "    s = s.split(' ')\n",
    "    count = 0\n",
    "    for i in s:\n",
    "        temp = list(i)\n",
    "        for j,c in enumerate(temp):\n",
    "            \n",
    "            if (j+1) % 2 == 0: \n",
    "                temp[j] = c.lower()\n",
    "            else:\n",
    "                temp[j] = c.upper()\n",
    "        s[count] = ''.join(temp)\n",
    "        count += 1\n",
    "        \n",
    "    return ' '.join(s)\n",
    "    \n",
    "toWeirdCase('iVWdMG qsiQu BUJtxC CVqyq')"
   ]
  },
  {
   "cell_type": "code",
   "execution_count": null,
   "metadata": {
    "collapsed": true
   },
   "outputs": [],
   "source": []
  }
 ],
 "metadata": {
  "kernelspec": {
   "display_name": "Python 3",
   "language": "python",
   "name": "python3"
  },
  "language_info": {
   "codemirror_mode": {
    "name": "ipython",
    "version": 3
   },
   "file_extension": ".py",
   "mimetype": "text/x-python",
   "name": "python",
   "nbconvert_exporter": "python",
   "pygments_lexer": "ipython3",
   "version": "3.5.2"
  }
 },
 "nbformat": 4,
 "nbformat_minor": 2
}
