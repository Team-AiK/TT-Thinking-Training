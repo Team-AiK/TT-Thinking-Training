{
 "cells": [
  {
   "cell_type": "markdown",
   "metadata": {},
   "source": [
    "# *Programmers* - 최솟값 만들기 `Level 2`\n",
    "\n",
    "자연수로 이루어진 길이가 같은 수열 A,B가 있습니다. 최솟값 만들기는 A, B에서 각각 한 개의 숫자를 뽑아 두 수를 곱한 값을 누적하여 더합니다. 이러한 과정을 수열의 길이만큼 반복하여 최종적으로 누적된 값이 최소가 되도록 만드는 것이 목표입니다.\n",
    "\n",
    "예를 들어 A = `[1, 2]` , B = `[3, 4]` 라면\n",
    "\n",
    "A에서 1, B에서 4를 뽑아 곱하여 더합니다.\n",
    "A에서 2, B에서 3을 뽑아 곱하여 더합니다.\n",
    "수열의 길이만큼 반복하여 최솟값 10을 얻을 수 있으며, 이 10이 최솟값이 됩니다.\n",
    "수열 A,B가 주어질 때, 최솟값을 반환해주는 getMinSum 함수를 완성하세요."
   ]
  },
  {
   "cell_type": "code",
   "execution_count": 1,
   "metadata": {},
   "outputs": [
    {
     "name": "stdout",
     "output_type": "stream",
     "text": [
      "10\n"
     ]
    }
   ],
   "source": [
    "def getMinSum(A,B):\n",
    "    return sum(A.pop(A.index(min(A)))*B.pop(B.index(max(B))) for i in range(len(A)))\n",
    "\n",
    "#아래 코드는 출력을 위한 테스트 코드입니다.\n",
    "\n",
    "print(getMinSum([1,2],[3,4]))"
   ]
  }
 ],
 "metadata": {
  "kernelspec": {
   "display_name": "Python 3",
   "language": "python",
   "name": "python3"
  },
  "language_info": {
   "codemirror_mode": {
    "name": "ipython",
    "version": 3
   },
   "file_extension": ".py",
   "mimetype": "text/x-python",
   "name": "python",
   "nbconvert_exporter": "python",
   "pygments_lexer": "ipython3",
   "version": "3.5.2"
  }
 },
 "nbformat": 4,
 "nbformat_minor": 2
}
