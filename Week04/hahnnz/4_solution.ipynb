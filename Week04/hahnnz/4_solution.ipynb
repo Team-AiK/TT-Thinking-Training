{
 "cells": [
  {
   "cell_type": "markdown",
   "metadata": {},
   "source": [
    "# 2018 Summer Coding 1차 - 테스트 문제 2\n",
    "\n",
    "앞뒤를 뒤집어도 똑같은 문자열을 팰린드롬(palindrome)이라고 합니다.\n",
    "문자열 s가 주어질 때, s의 부분문자열(Substring)중 가장 긴 팰린드롬의 길이를 return 하는 solution 함수를 완성해 주세요.\n",
    "\n",
    "예를들면, 문자열 s가 abcdcba이면 7을 return하고 abacde이면 3을 return합니다.\n",
    "\n",
    "## 제한사항\n",
    "* 문자열 s의 길이 : 2500 이하의 자연수\n",
    "* 문자열 s는 알파벳 소문자로만 구성 \n",
    "\n",
    "------------------------------\n",
    "\n",
    "## 입출력 예\n",
    "s | answer\n",
    ":-: | :---:\n",
    "\"abcdcba\" | 7\n",
    "\"abacde\" | 3\n",
    "\n",
    "## 입출력 예 설명\n",
    "### 입출력 예 #1\n",
    "4번째자리 'd'를 기준으로 문자열 s 전체가 팰린드롬이 되므로 7을 return합니다.\n",
    "\n",
    "### 입출력 예 #2\n",
    "2번째자리 'b'를 기준으로 aba가 팰린드롬이 되므로 3을 return합니다."
   ]
  },
  {
   "cell_type": "code",
   "execution_count": 1,
   "metadata": {},
   "outputs": [],
   "source": [
    "def solution(s):\n",
    "    return max(((lambda s : max(len(s[:len(s)-i+1]) if s[:len(s)-i+1]==s[len(s)-i::-1] else 0 for i in range(len(s))))(s[j:])) for j in range(len(s)))\n",
    "\n",
    "print(solution(\"abcdcba\"))\n",
    "print(solution(\"abacde\"))"
   ]
  }
 ],
 "metadata": {
  "kernelspec": {
   "display_name": "Python 3",
   "language": "python",
   "name": "python3"
  },
  "language_info": {
   "codemirror_mode": {
    "name": "ipython",
    "version": 3
   },
   "file_extension": ".py",
   "mimetype": "text/x-python",
   "name": "python",
   "nbconvert_exporter": "python",
   "pygments_lexer": "ipython3",
   "version": "3.6.4"
  }
 },
 "nbformat": 4,
 "nbformat_minor": 2
}
