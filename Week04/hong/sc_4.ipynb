{
 "cells": [
  {
   "cell_type": "code",
   "execution_count": 1,
   "metadata": {},
   "outputs": [
    {
     "name": "stdout",
     "output_type": "stream",
     "text": [
      "[3, 3]\n",
      "[0, 0]\n",
      "[1, 3]\n"
     ]
    }
   ],
   "source": [
    "import math\n",
    "def quiz_2(n,words):\n",
    "    exist=[words[0]]\n",
    "    i=1\n",
    "    for word in words[1:]:\n",
    "        if exist[-1][-1] == word[0] and word not in exist:\n",
    "            exist.append(word)\n",
    "            i+=1\n",
    "        else :\n",
    "            return [n-((i+1)%n),math.ceil((i+1)/n)]\n",
    "    return [0,0]\n",
    "print(quiz_2(3,[\"tank\",\"kick\",\"know\",\"wheel\",\"land\",\"dream\",\"mother\",\"robot\",\"tank\"]))\n",
    "print(quiz_2(5,[\"hello\", \"observe\", \"effect\", \"take\", \"either\", \"recognize\", \"encourage\", \"ensure\", \"establish\", \"hang\", \"gather\", \"refer\", \"reference\", \"estimate\", \"executive\"]))\n",
    "print(quiz_2(2,[\"hello\", \"one\", \"even\", \"never\", \"now\", \"world\", \"draw\"]))"
   ]
  },
  {
   "cell_type": "code",
   "execution_count": null,
   "metadata": {},
   "outputs": [],
   "source": []
  }
 ],
 "metadata": {
  "kernelspec": {
   "display_name": "Python 3",
   "language": "python",
   "name": "python3"
  },
  "language_info": {
   "codemirror_mode": {
    "name": "ipython",
    "version": 3
   },
   "file_extension": ".py",
   "mimetype": "text/x-python",
   "name": "python",
   "nbconvert_exporter": "python",
   "pygments_lexer": "ipython3",
   "version": "3.5.2"
  }
 },
 "nbformat": 4,
 "nbformat_minor": 2
}
