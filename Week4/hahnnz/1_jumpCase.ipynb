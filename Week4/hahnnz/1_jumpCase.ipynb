{
 "cells": [
  {
   "cell_type": "markdown",
   "metadata": {},
   "source": [
    "# *Programmers* - 멀리 뛰기 `Level 3`\n",
    "\n",
    "효진이는 멀리 뛰기를 연습하고 있습니다. 효진이는 한번에 1칸, 또는 2칸을 뛸 수 있습니다. 칸이 총 4개 있을 때, 효진이는<br />\n",
    "(1칸, 1칸, 1칸, 1칸)<br />\n",
    "(1칸, 2칸, 1칸)<br />\n",
    "(1칸, 1칸, 2칸)<br />\n",
    "(2칸, 1칸, 1칸)<br />\n",
    "(2칸, 2칸)<br />\n",
    "의 5가지 방법으로 맨 끝 칸에 도달할 수 있습니다. 멀리뛰기에 사용될 칸의 수 n이 주어질 때, 효진이가 끝에 도달하는 방법이 몇 가지인지 출력하는 jumpCase 함수를 완성하세요. 예를 들어 4가 입력된다면, 5를 반환해 주면 됩니다."
   ]
  },
  {
   "cell_type": "code",
   "execution_count": 1,
   "metadata": {},
   "outputs": [
    {
     "name": "stdout",
     "output_type": "stream",
     "text": [
      "5\n"
     ]
    }
   ],
   "source": [
    "def jumpCase(num):\n",
    "    arr=list((1,2))\n",
    "    for i in range(2,num+1):\n",
    "        arr.append(arr[i-1]+arr[i-2])\n",
    "    return arr[num-1]\n",
    "    \n",
    "#아래는 테스트로 출력해 보기 위한 코드입니다.\n",
    "print(jumpCase(4))"
   ]
  }
 ],
 "metadata": {
  "kernelspec": {
   "display_name": "Python 3",
   "language": "python",
   "name": "python3"
  },
  "language_info": {
   "codemirror_mode": {
    "name": "ipython",
    "version": 3
   },
   "file_extension": ".py",
   "mimetype": "text/x-python",
   "name": "python",
   "nbconvert_exporter": "python",
   "pygments_lexer": "ipython3",
   "version": "3.6.4"
  }
 },
 "nbformat": 4,
 "nbformat_minor": 2
}
