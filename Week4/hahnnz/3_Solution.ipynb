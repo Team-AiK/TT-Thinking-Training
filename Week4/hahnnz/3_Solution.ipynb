{
 "cells": [
  {
   "cell_type": "markdown",
   "metadata": {},
   "source": [
    "# 2018 Summer Coding 1차 - 테스트 문제 1\n",
    "길이가 n인 배열에 1부터 n까지 숫자가 중복 없이 한 번씩 들어 있는지를 확인하려고 합니다.\n",
    "1부터 n까지 숫자가 중복 없이 한 번씩 들어 있는 경우 true를, 아닌 경우 false를 반환하도록 함수 solution을 완성해주세요.\n",
    "\n",
    "## 제한사항\n",
    "* 배열의 길이는 10만 이하입니다.\n",
    "* 배열의 원소는 10만 이하의 자연수입니다.\n",
    "\n",
    "-----------------------------------\n",
    "## 입출력 예시\n",
    "arr | result\n",
    ":-: | :----:\n",
    "[4, 1, 3, 2] | true\n",
    "[4, 1, 3] | false\n",
    "\n",
    "## 입출력 예 설명\n",
    "### 입출력 예 #1\n",
    "입력이 [4, 1, 3, 2]가 주어진 경우, 배열의 길이가 4이므로 배열에는 1부터 4까지 숫자가 모두 들어 있어야 합니다. [4, 1, 3, 2]에는 1부터 4까지의 숫자가 모두 들어 있으므로 true를 반환하면 됩니다.\n",
    "\n",
    "### 입출력 예 #2\n",
    "[4, 1, 3]이 주어진 경우, 배열의 길이가 3이므로 배열에는 1부터 3까지 숫자가 모두 들어 있어야 합니다. [4, 1, 3]에는 2가 없고 4가 있으므로 false를 반환하면 됩니다."
   ]
  },
  {
   "cell_type": "code",
   "execution_count": 1,
   "metadata": {},
   "outputs": [
    {
     "name": "stdout",
     "output_type": "stream",
     "text": [
      "True\n",
      "False\n"
     ]
    }
   ],
   "source": [
    "def solution(arr):\n",
    "    return True if sum(arr)==sum((range(1,len(arr)+1))) else False\n",
    "\n",
    "print(solution((4,1,3,2)))\n",
    "print(solution((4,1,3)))"
   ]
  }
 ],
 "metadata": {
  "kernelspec": {
   "display_name": "Python 3",
   "language": "python",
   "name": "python3"
  },
  "language_info": {
   "codemirror_mode": {
    "name": "ipython",
    "version": 3
   },
   "file_extension": ".py",
   "mimetype": "text/x-python",
   "name": "python",
   "nbconvert_exporter": "python",
   "pygments_lexer": "ipython3",
   "version": "3.6.4"
  }
 },
 "nbformat": 4,
 "nbformat_minor": 2
}
