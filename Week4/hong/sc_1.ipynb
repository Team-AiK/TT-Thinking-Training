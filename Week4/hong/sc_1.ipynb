{
 "cells": [
  {
   "cell_type": "code",
   "execution_count": 35,
   "metadata": {},
   "outputs": [
    {
     "name": "stdout",
     "output_type": "stream",
     "text": [
      "True\n",
      "False\n"
     ]
    }
   ],
   "source": [
    "def func(data):\n",
    "    size=len(data)\n",
    "    if size > 100000:\n",
    "        return \"data length error\"\n",
    "    for i in data:\n",
    "        if i > 100000:\n",
    "            return \"number error\"\n",
    "    \n",
    "    for i in range(1,size+1):\n",
    "        if i in data:\n",
    "            data.remove(i)\n",
    "    if len(data) != 0:\n",
    "        return False\n",
    "    else :\n",
    "        return True\n",
    "\n",
    "\n",
    "case1=[4,1,2,3]\n",
    "case2=[4,1,3]\n",
    "print(func(case1))\n",
    "print(func(case2))"
   ]
  },
  {
   "cell_type": "code",
   "execution_count": null,
   "metadata": {},
   "outputs": [],
   "source": [
    "\n"
   ]
  }
 ],
 "metadata": {
  "kernelspec": {
   "display_name": "Python 3",
   "language": "python",
   "name": "python3"
  },
  "language_info": {
   "codemirror_mode": {
    "name": "ipython",
    "version": 3
   },
   "file_extension": ".py",
   "mimetype": "text/x-python",
   "name": "python",
   "nbconvert_exporter": "python",
   "pygments_lexer": "ipython3",
   "version": "3.5.2"
  }
 },
 "nbformat": 4,
 "nbformat_minor": 2
}
