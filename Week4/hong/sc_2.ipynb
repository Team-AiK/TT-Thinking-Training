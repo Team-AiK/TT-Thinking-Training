{
 "cells": [
  {
   "cell_type": "code",
   "execution_count": 4,
   "metadata": {},
   "outputs": [
    {
     "name": "stdout",
     "output_type": "stream",
     "text": [
      "7\n",
      "3\n"
     ]
    }
   ],
   "source": [
    "def palindrome(s):\n",
    "    \n",
    "    if s==s[::-1]:\n",
    "        return len(s)\n",
    "    return max(palindrome(s[:-1]),palindrome(s[1:]))\n",
    "\n",
    "def result(data):\n",
    "    if len(data) > 2500:\n",
    "        return \"length error \"\n",
    "    elif data.isupper():\n",
    "        return \"must lower case\"\n",
    "    else :\n",
    "        print(palindrome(data))\n",
    "\n",
    "result(\"abcdcba\")\n",
    "result(\"abacde\")"
   ]
  }
 ],
 "metadata": {
  "kernelspec": {
   "display_name": "Python 3",
   "language": "python",
   "name": "python3"
  },
  "language_info": {
   "codemirror_mode": {
    "name": "ipython",
    "version": 3
   },
   "file_extension": ".py",
   "mimetype": "text/x-python",
   "name": "python",
   "nbconvert_exporter": "python",
   "pygments_lexer": "ipython3",
   "version": "3.5.2"
  }
 },
 "nbformat": 4,
 "nbformat_minor": 2
}
