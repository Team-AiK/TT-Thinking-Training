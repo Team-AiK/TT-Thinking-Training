{
 "cells": [
  {
   "cell_type": "code",
   "execution_count": 1,
   "metadata": {},
   "outputs": [
    {
     "name": "stdout",
     "output_type": "stream",
     "text": [
      "3\n",
      "4\n"
     ]
    }
   ],
   "source": [
    "def quiz_1(arr,budget):\n",
    "    size=len(arr)\n",
    "    if size < 0 or size >100:\n",
    "        return \"array size error\"\n",
    "    elif budget > 10000000 or budget <0:\n",
    "        return \"budget error\"\n",
    "    arr.sort()\n",
    "    \n",
    "    count=0\n",
    "    \n",
    "    for i in arr:\n",
    "        if not float(i).is_integer():\n",
    "            return \"value error\"\n",
    "        elif budget-i>=0:\n",
    "            budget=budget-i\n",
    "            count+=1\n",
    "        \n",
    "    return(count)\n",
    "listA=[1,3,2,5,4]\n",
    "budgetA=9\n",
    "listB=[2,2,3,3]\n",
    "budgetB=10\n",
    "print(quiz_1(listA,budgetA))\n",
    "print(quiz_1(listB,budgetB))"
   ]
  }
 ],
 "metadata": {
  "kernelspec": {
   "display_name": "Python 3",
   "language": "python",
   "name": "python3"
  },
  "language_info": {
   "codemirror_mode": {
    "name": "ipython",
    "version": 3
   },
   "file_extension": ".py",
   "mimetype": "text/x-python",
   "name": "python",
   "nbconvert_exporter": "python",
   "pygments_lexer": "ipython3",
   "version": "3.5.2"
  }
 },
 "nbformat": 4,
 "nbformat_minor": 2
}
