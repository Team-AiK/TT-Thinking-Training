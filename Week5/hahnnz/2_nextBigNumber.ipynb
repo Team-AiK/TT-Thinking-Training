{
 "cells": [
  {
   "cell_type": "markdown",
   "metadata": {},
   "source": [
    "# *Programmers* - 다음 큰 숫자 `Level 3`\n",
    "\n",
    "어떤 수 N(1≤N≤1,000,000) 이 주어졌을 때, N의 다음 큰 숫자는 다음과 같습니다.\n",
    "\n",
    "* N의 다음 큰 숫자는 N을 2진수로 바꾸었을 때의 1의 개수와 같은 개수로 이루어진 수입니다.\n",
    "* 1번째 조건을 만족하는 숫자들 중 N보다 큰 수 중에서 가장 작은 숫자를 찾아야 합니다.\n",
    "\n",
    "예를 들어, 78을 2진수로 바꾸면 `1001110` 이며, 78의 다음 큰 숫자는 83으로 2진수는 `1010011` 입니다.\n",
    "N이 주어질 때, N의 **다음 큰 숫자**를 찾는 nextBigNumber 함수를 완성하세요."
   ]
  },
  {
   "cell_type": "code",
   "execution_count": 1,
   "metadata": {},
   "outputs": [
    {
     "name": "stdout",
     "output_type": "stream",
     "text": [
      "83\n"
     ]
    }
   ],
   "source": [
    "def nextBigNumber(n):\n",
    "    def getBinary(num):\n",
    "        binary=\"\"\n",
    "        for i in range(n.bit_length()):\n",
    "            num, binary =(lambda x, binary : ((x//2,binary+\"1\" if x%2==1 else binary+\"0\")))(num, binary)\n",
    "        return binary[::-1]\n",
    "    \n",
    "    num=n+1\n",
    "    while list(getBinary(n)).count(\"1\") != list(getBinary(num)).count(\"1\"):\n",
    "        num+=1\n",
    "    \n",
    "    return num\n",
    "\n",
    "#아래 코드는 테스트를 위한 출력 코드입니다.\n",
    "print(nextBigNumber(78))"
   ]
  }
 ],
 "metadata": {
  "kernelspec": {
   "display_name": "Python 3",
   "language": "python",
   "name": "python3"
  },
  "language_info": {
   "codemirror_mode": {
    "name": "ipython",
    "version": 3
   },
   "file_extension": ".py",
   "mimetype": "text/x-python",
   "name": "python",
   "nbconvert_exporter": "python",
   "pygments_lexer": "ipython3",
   "version": "3.6.4"
  }
 },
 "nbformat": 4,
 "nbformat_minor": 2
}
