{
 "cells": [
  {
   "cell_type": "markdown",
   "metadata": {},
   "source": [
    "# *Programmers* - 시저 암호 `Level 3`\n",
    "\n",
    "어떤 문장의 각 알파벳을 일정한 거리만큼 밀어서 다른 알파벳으로 바꾸는 암호화 방식을 시저 암호라고 합니다.\n",
    "\n",
    "A를 3만큼 밀면 D가 되고 z를 1만큼 밀면 a가 됩니다. 공백은 수정하지 않습니다.\n",
    "\n",
    "보낼 문자열 s와 얼마나 밀지 알려주는 n을 입력받아 암호문을 만드는 caesar 함수를 완성해 보세요.\n",
    "\n",
    "* “a B z”,4를 입력받았다면 “e F d”를 리턴합니다."
   ]
  },
  {
   "cell_type": "code",
   "execution_count": 1,
   "metadata": {},
   "outputs": [],
   "source": [
    "def caesar(s, n):\n",
    "    output=\"\"\n",
    "    for wd in s:\n",
    "        if wd.isalpha():\n",
    "            diff = (ord(wd) - ord(\"a\" if wd.islower() else \"A\") + n)%26\n",
    "            output += chr(diff + ord(\"a\" if wd.islower() else \"A\"))\n",
    "        else : output+=wd\n",
    "    return output"
   ]
  }
 ],
 "metadata": {
  "kernelspec": {
   "display_name": "Python 3",
   "language": "python",
   "name": "python3"
  },
  "language_info": {
   "codemirror_mode": {
    "name": "ipython",
    "version": 3
   },
   "file_extension": ".py",
   "mimetype": "text/x-python",
   "name": "python",
   "nbconvert_exporter": "python",
   "pygments_lexer": "ipython3",
   "version": "3.6.4"
  }
 },
 "nbformat": 4,
 "nbformat_minor": 2
}
