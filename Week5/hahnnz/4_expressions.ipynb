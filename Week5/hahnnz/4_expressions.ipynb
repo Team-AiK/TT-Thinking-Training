{
 "cells": [
  {
   "cell_type": "markdown",
   "metadata": {},
   "source": [
    "# *Programmers* - 숫자의 표현 `Level 4`\n",
    "\n",
    "수학을 공부하던 민지는 재미있는 사실을 발견하였습니다. 그 사실은 바로 연속된 자연수의 합으로 어떤 숫자를 표현하는 방법이 여러 가지라는 것입니다. 예를 들어, 15를 표현하는 방법은<br />\n",
    "(1+2+3+4+5)<br />\n",
    "(4+5+6)<br />\n",
    "(7+8)<br />\n",
    "(15)<br />\n",
    "로 총 4가지가 존재합니다. 숫자를 입력받아 연속된 수로 표현하는 방법을 반환하는 expressions 함수를 만들어 민지를 도와주세요. 예를 들어 15가 입력된다면 4를 반환해 주면 됩니다."
   ]
  },
  {
   "cell_type": "code",
   "execution_count": 1,
   "metadata": {},
   "outputs": [
    {
     "name": "stdout",
     "output_type": "stream",
     "text": [
      "4\n"
     ]
    }
   ],
   "source": [
    "def expressions(num):\n",
    "    cursor1 = 1\n",
    "    cursor2 = 2\n",
    "    count = 0\n",
    "    \n",
    "    while cursor2 != (num//2) + (num%2) + 2:\n",
    "        arr=list(range(cursor1,cursor2))\n",
    "        if sum(arr) == num:\n",
    "            count+=1\n",
    "            cursor1+=1\n",
    "        elif sum(arr) > num:\n",
    "            cursor1+=1\n",
    "        elif sum(arr) < num:\n",
    "            cursor2+=1\n",
    "            \n",
    "    return count+1\n",
    "    \n",
    "print(expressions(15))"
   ]
  }
 ],
 "metadata": {
  "kernelspec": {
   "display_name": "Python 3",
   "language": "python",
   "name": "python3"
  },
  "language_info": {
   "codemirror_mode": {
    "name": "ipython",
    "version": 3
   },
   "file_extension": ".py",
   "mimetype": "text/x-python",
   "name": "python",
   "nbconvert_exporter": "python",
   "pygments_lexer": "ipython3",
   "version": "3.6.4"
  }
 },
 "nbformat": 4,
 "nbformat_minor": 2
}
