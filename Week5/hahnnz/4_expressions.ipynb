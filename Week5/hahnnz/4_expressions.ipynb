{
 "cells": [
  {
   "cell_type": "markdown",
   "metadata": {},
   "source": [
    "# *Programmers* - 숫자의 표현 `Level 4`\n",
    "\n",
    "수학을 공부하던 민지는 재미있는 사실을 발견하였습니다. 그 사실은 바로 연속된 자연수의 합으로 어떤 숫자를 표현하는 방법이 여러 가지라는 것입니다. 예를 들어, 15를 표현하는 방법은<br />\n",
    "(1+2+3+4+5)<br />\n",
    "(4+5+6)<br />\n",
    "(7+8)<br />\n",
    "(15)<br />\n",
    "로 총 4가지가 존재합니다. 숫자를 입력받아 연속된 수로 표현하는 방법을 반환하는 expressions 함수를 만들어 민지를 도와주세요. 예를 들어 15가 입력된다면 4를 반환해 주면 됩니다."
   ]
  },
  {
   "cell_type": "code",
   "execution_count": 18,
   "metadata": {},
   "outputs": [
    {
     "name": "stdout",
     "output_type": "stream",
     "text": [
      "[4, 5, 6]\n",
      "[1, 2, 3, 4, 5]\n",
      "4\n"
     ]
    }
   ],
   "source": [
    "def expressions(num):\n",
    "    count=2 \n",
    "    for n in range(3,num//2): \n",
    "        arr = list((num//n)+i for i in range(2-n,n-1))\n",
    "        if sum(arr) != num or arr[0]<1:\n",
    "            break\n",
    "        else :\n",
    "            print(arr)\n",
    "            count+=1\n",
    "    return count\n",
    "    \n",
    "\n",
    "# 아래는 테스트로 출력해 보기 위한 코드입니다.\n",
    "print(expressions(15))"
   ]
  },
  {
   "cell_type": "code",
   "execution_count": 6,
   "metadata": {},
   "outputs": [
    {
     "name": "stdout",
     "output_type": "stream",
     "text": [
      "1 2\n",
      "1 3\n",
      "1 4\n",
      "1 5\n",
      "1 6\n",
      "2 6\n",
      "2 7\n",
      "3 7\n",
      "4 7\n",
      "5 7\n",
      "5 8\n",
      "6 8\n",
      "6 9\n",
      "7 9\n",
      "8 9\n",
      "3\n"
     ]
    }
   ],
   "source": [
    "def expressions(num):\n",
    "    cursor1 = 1\n",
    "    cursor2 = 2\n",
    "    count = 0\n",
    "    \n",
    "    while cursor2 != (num//2) + (num%2) + 2:\n",
    "        arr=list(range(cursor1,cursor2))\n",
    "        if sum(arr) == num:\n",
    "            count+=1\n",
    "            cursor1+=1\n",
    "        elif sum(arr) > num:\n",
    "            cursor1+=1\n",
    "        elif sum(arr) < num:\n",
    "            cursor2+=1\n",
    "            \n",
    "    return count\n",
    "    \n",
    "print(expressions(15))"
   ]
  },
  {
   "cell_type": "code",
   "execution_count": 2,
   "metadata": {},
   "outputs": [
    {
     "data": {
      "text/plain": [
       "8"
      ]
     },
     "execution_count": 2,
     "metadata": {},
     "output_type": "execute_result"
    }
   ],
   "source": [
    "num=15\n",
    "\n",
    "(num//2) + (num%2)"
   ]
  },
  {
   "cell_type": "code",
   "execution_count": 218,
   "metadata": {},
   "outputs": [
    {
     "name": "stdout",
     "output_type": "stream",
     "text": [
      "[4, 5, 6]\n"
     ]
    }
   ],
   "source": [
    "ddd=15\n",
    "n=3\n",
    "\n",
    "arr = list((ddd//n)+i for i in range(2-n,n-1))\n",
    "if arr[0]<1:\n",
    "    print(\"NO\")\n",
    "else :\n",
    "    print(arr)"
   ]
  },
  {
   "cell_type": "code",
   "execution_count": 209,
   "metadata": {},
   "outputs": [
    {
     "data": {
      "text/plain": [
       "3"
      ]
     },
     "execution_count": 209,
     "metadata": {},
     "output_type": "execute_result"
    }
   ],
   "source": [
    "n-1"
   ]
  },
  {
   "cell_type": "code",
   "execution_count": 202,
   "metadata": {},
   "outputs": [
    {
     "data": {
      "text/plain": [
       "(-1, 2)"
      ]
     },
     "execution_count": 202,
     "metadata": {},
     "output_type": "execute_result"
    }
   ],
   "source": [
    "-1,2 n==3"
   ]
  },
  {
   "cell_type": "code",
   "execution_count": null,
   "metadata": {},
   "outputs": [],
   "source": [
    "-2,3 n==4"
   ]
  }
 ],
 "metadata": {
  "kernelspec": {
   "display_name": "Python 3",
   "language": "python",
   "name": "python3"
  },
  "language_info": {
   "codemirror_mode": {
    "name": "ipython",
    "version": 3
   },
   "file_extension": ".py",
   "mimetype": "text/x-python",
   "name": "python",
   "nbconvert_exporter": "python",
   "pygments_lexer": "ipython3",
   "version": "3.6.4"
  }
 },
 "nbformat": 4,
 "nbformat_minor": 2
}
